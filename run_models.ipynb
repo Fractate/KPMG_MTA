{
 "cells": [
  {
   "cell_type": "code",
   "execution_count": 1,
   "metadata": {},
   "outputs": [
    {
     "name": "stderr",
     "output_type": "stream",
     "text": [
      "Importing plotly failed. Interactive plots will not work.\n",
      "16:35:07 - cmdstanpy - INFO - Chain [1] start processing\n",
      "16:35:07 - cmdstanpy - INFO - Chain [1] done processing\n",
      "Traceback (most recent call last):\n",
      "  File \"c:\\Users\\cjong\\Projects\\education\\kpmg2\\KPMG_MTA_Data_Analysis\\modeling\\prophet_featureimportance.py\", line 48, in <module>\n",
      "    fig, ax = plt.subplots(figsize=(12, 6))\n",
      "              ^^^^^^^^^^^^^^^^^^^^^^^^^^^^^\n",
      "  File \"C:\\Users\\cjong\\AppData\\Local\\Programs\\Python\\Python311\\Lib\\site-packages\\matplotlib\\pyplot.py\", line 1501, in subplots\n",
      "    fig = figure(**fig_kw)\n",
      "          ^^^^^^^^^^^^^^^^\n",
      "  File \"C:\\Users\\cjong\\AppData\\Local\\Programs\\Python\\Python311\\Lib\\site-packages\\matplotlib\\_api\\deprecation.py\", line 454, in wrapper\n",
      "    return func(*args, **kwargs)\n",
      "           ^^^^^^^^^^^^^^^^^^^^^\n",
      "  File \"C:\\Users\\cjong\\AppData\\Local\\Programs\\Python\\Python311\\Lib\\site-packages\\matplotlib\\pyplot.py\", line 840, in figure\n",
      "    manager = new_figure_manager(\n",
      "              ^^^^^^^^^^^^^^^^^^^\n",
      "  File \"C:\\Users\\cjong\\AppData\\Local\\Programs\\Python\\Python311\\Lib\\site-packages\\matplotlib\\pyplot.py\", line 383, in new_figure_manager\n",
      "    _warn_if_gui_out_of_main_thread()\n",
      "  File \"C:\\Users\\cjong\\AppData\\Local\\Programs\\Python\\Python311\\Lib\\site-packages\\matplotlib\\pyplot.py\", line 361, in _warn_if_gui_out_of_main_thread\n",
      "    if _get_required_interactive_framework(_get_backend_mod()):\n",
      "                                           ^^^^^^^^^^^^^^^^^^\n",
      "  File \"C:\\Users\\cjong\\AppData\\Local\\Programs\\Python\\Python311\\Lib\\site-packages\\matplotlib\\pyplot.py\", line 208, in _get_backend_mod\n",
      "    switch_backend(rcParams._get(\"backend\"))\n",
      "  File \"C:\\Users\\cjong\\AppData\\Local\\Programs\\Python\\Python311\\Lib\\site-packages\\matplotlib\\pyplot.py\", line 271, in switch_backend\n",
      "    backend_mod = importlib.import_module(\n",
      "                  ^^^^^^^^^^^^^^^^^^^^^^^^\n",
      "  File \"C:\\Users\\cjong\\AppData\\Local\\Programs\\Python\\Python311\\Lib\\importlib\\__init__.py\", line 126, in import_module\n",
      "    return _bootstrap._gcd_import(name[level:], package, level)\n",
      "           ^^^^^^^^^^^^^^^^^^^^^^^^^^^^^^^^^^^^^^^^^^^^^^^^^^^^\n",
      "  File \"<frozen importlib._bootstrap>\", line 1206, in _gcd_import\n",
      "  File \"<frozen importlib._bootstrap>\", line 1178, in _find_and_load\n",
      "  File \"<frozen importlib._bootstrap>\", line 1128, in _find_and_load_unlocked\n",
      "  File \"<frozen importlib._bootstrap>\", line 241, in _call_with_frames_removed\n",
      "  File \"<frozen importlib._bootstrap>\", line 1206, in _gcd_import\n",
      "  File \"<frozen importlib._bootstrap>\", line 1178, in _find_and_load\n",
      "  File \"<frozen importlib._bootstrap>\", line 1142, in _find_and_load_unlocked\n",
      "ModuleNotFoundError: No module named 'matplotlib_inline'\n"
     ]
    }
   ],
   "source": [
    "!python ./modeling/prophet_featureimportance.py"
   ]
  }
 ],
 "metadata": {
  "kernelspec": {
   "display_name": "base",
   "language": "python",
   "name": "python3"
  },
  "language_info": {
   "codemirror_mode": {
    "name": "ipython",
    "version": 3
   },
   "file_extension": ".py",
   "mimetype": "text/x-python",
   "name": "python",
   "nbconvert_exporter": "python",
   "pygments_lexer": "ipython3",
   "version": "3.11.3"
  },
  "orig_nbformat": 4
 },
 "nbformat": 4,
 "nbformat_minor": 2
}
