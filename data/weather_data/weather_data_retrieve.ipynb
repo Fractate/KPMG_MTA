{
 "cells": [
  {
   "cell_type": "code",
   "execution_count": null,
   "metadata": {},
   "outputs": [],
   "source": [
    "import datahelper as dh"
   ]
  },
  {
   "cell_type": "code",
   "execution_count": null,
   "metadata": {},
   "outputs": [],
   "source": [
    "# returns data to donyc_events.csv\n",
    "dh.get_total_events_count('events')"
   ]
  },
  {
   "cell_type": "code",
   "execution_count": null,
   "metadata": {},
   "outputs": [],
   "source": [
    "# returns data to donyc_*.csv\n",
    "## comedy\n",
    "## film-screenings\n",
    "## music\n",
    "\n",
    "categories = ['music', 'comedy', 'film-screenings']\n",
    "\n",
    "for category in categories:\n",
    "    count = dh.get_total_categorial_events_count(category)"
   ]
  },
  {
   "cell_type": "code",
   "execution_count": null,
   "metadata": {},
   "outputs": [],
   "source": [
    "# returns data to donyc_*.csv\n",
    "## barclays-center\n",
    "## blue-note-jazz-club\n",
    "## carnegie-hall\n",
    "## forest-hills-stadium\n",
    "## kings-theatre\n",
    "## madison-square-garden\n",
    "## mercury-lounge # removed due to incorrect data retrieved from website\n",
    "## metlife-stadium\n",
    "## palladium-times-square # removed due to infinite glitch\n",
    "## radio-city-music-hall\n",
    "## terminal-5\n",
    "## the-bowery-ballroom\n",
    "## yankee-stadium\n",
    "\n",
    "categories = ['barclays-center',\n",
    "              'blue-note-jazz-club',\n",
    "              'carnegie-hall',\n",
    "              'forest-hills-stadium',\n",
    "              'kings-theatre', \n",
    "              'madison-square-garden', \n",
    "              'metlife-stadium', \n",
    "              'radio-city-music-hall', \n",
    "              'terminal-5', \n",
    "              'the-bowery-ballroom', \n",
    "              'yankee-stadium']\n",
    "\n",
    "for venue in categories:\n",
    "    dh.get_venue_events_bool(venue)"
   ]
  },
  {
   "cell_type": "code",
   "execution_count": null,
   "metadata": {},
   "outputs": [],
   "source": [
    "dh.donyc_data_consolidate()"
   ]
  }
 ],
 "metadata": {
  "kernelspec": {
   "display_name": "base",
   "language": "python",
   "name": "python3"
  },
  "language_info": {
   "codemirror_mode": {
    "name": "ipython",
    "version": 3
   },
   "file_extension": ".py",
   "mimetype": "text/x-python",
   "name": "python",
   "nbconvert_exporter": "python",
   "pygments_lexer": "ipython3",
   "version": "3.9.16"
  },
  "orig_nbformat": 4
 },
 "nbformat": 4,
 "nbformat_minor": 2
}
