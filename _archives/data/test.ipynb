{
 "cells": [
  {
   "cell_type": "code",
   "execution_count": 1,
   "metadata": {},
   "outputs": [
    {
     "name": "stdout",
     "output_type": "stream",
     "text": [
      "Error: API call failed with status code 403\n"
     ]
    }
   ],
   "source": [
    "import requests\n",
    "import json\n",
    "\n",
    "# Set API endpoint and parameters\n",
    "url = 'https://api.seatgeek.com/2/events'\n",
    "params = {\n",
    "    'datetime_utc.lte': '2022-01-01T00:00:00',\n",
    "    'datetime_utc.gte': '2021-01-01T00:00:00',\n",
    "    'sort': 'datetime_utc.asc',\n",
    "    'per_page': 50,\n",
    "    'page': 1,\n",
    "    'client_id': 'YOUR_CLIENT_ID'\n",
    "}\n",
    "\n",
    "# Make API request\n",
    "response = requests.get(url, params=params)\n",
    "\n",
    "# Check for successful API call\n",
    "if response.status_code == 200:\n",
    "    # Parse JSON response\n",
    "    response_data = json.loads(response.text)\n",
    "    # Extract event data from response\n",
    "    events = response_data['events']\n",
    "    # Print event information\n",
    "    for event in events:\n",
    "        print(event['title'], event['datetime_utc'], event['venue']['name'])\n",
    "else:\n",
    "    # Print error message if API call fails\n",
    "    print('Error: API call failed with status code', response.status_code)\n"
   ]
  },
  {
   "cell_type": "code",
   "execution_count": 6,
   "metadata": {},
   "outputs": [
    {
     "data": {
      "text/plain": [
       "{'_links': {'self': {'href': '/discovery/v2/events.json?startDateTime=2020-08-01T14%3A00%3A00Z&countryCode=US&endDateTime=2020-08-02T14%3A00%3A00Z'}},\n",
       " 'page': {'size': 20, 'totalElements': 0, 'totalPages': 0, 'number': 0}}"
      ]
     },
     "execution_count": 6,
     "metadata": {},
     "output_type": "execute_result"
    }
   ],
   "source": [
    "import requests\n",
    "import json\n",
    "\n",
    "url = \"https://app.ticketmaster.com/discovery/v2/events.json\"\n",
    "api_key = \"4AAxqGhmFhLMd59fBcBgDxOOFAmTXbb6\"\n",
    "\n",
    "start_date = \"2020-08-01T14:00:00Z\"\n",
    "end_date = \"2020-08-02T14:00:00Z\"\n",
    "\n",
    "params = {\n",
    "    \"apikey\": api_key,\n",
    "    \"startDateTime\": start_date,\n",
    "    \"endDateTime\": end_date,\n",
    "    \"countryCode\": \"US\"\n",
    "}\n",
    "\n",
    "response = requests.get(url, params=params)\n",
    "\n",
    "data = json.loads(response.text)\n",
    "\n",
    "# events = data[\"_embedded\"][\"events\"]\n",
    "\n",
    "# print(events)\n",
    "\n",
    "data"
   ]
  }
 ],
 "metadata": {
  "kernelspec": {
   "display_name": "base",
   "language": "python",
   "name": "python3"
  },
  "language_info": {
   "codemirror_mode": {
    "name": "ipython",
    "version": 3
   },
   "file_extension": ".py",
   "mimetype": "text/x-python",
   "name": "python",
   "nbconvert_exporter": "python",
   "pygments_lexer": "ipython3",
   "version": "3.9.16"
  },
  "orig_nbformat": 4,
  "vscode": {
   "interpreter": {
    "hash": "b8b887db99f8edfa7f3e3a008cc1b31fa63afeb09acb3c9f070418078094f7b2"
   }
  }
 },
 "nbformat": 4,
 "nbformat_minor": 2
}
